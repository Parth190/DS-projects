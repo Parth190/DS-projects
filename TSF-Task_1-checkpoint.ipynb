{
 "cells": [
  {
   "cell_type": "markdown",
   "id": "massive-steal",
   "metadata": {},
   "source": [
    "Project Title : Prediction Using Supervised ML ( % reduction vs temperature)\n",
    "BY - Parth\n",
    "Dataset : Direct table used"
   ]
  },
  {
   "cell_type": "markdown",
   "id": "danish-preparation",
   "metadata": {},
   "source": [
    "Importing the required libraries. \n",
    "We will need pandas, numpy, matplotlib and linear_regressions."
   ]
  },
  {
   "cell_type": "code",
   "execution_count": 8,
   "id": "supported-confidentiality",
   "metadata": {},
   "outputs": [
    {
     "name": "stdout",
     "output_type": "stream",
     "text": [
      "libraries imported successfully\n"
     ]
    }
   ],
   "source": [
    "import pandas as pd\n",
    "import numpy as np\n",
    "import matplotlib.pyplot as plt \n",
    "from sklearn.linear_model import LinearRegression \n",
    "print (\"libraries imported successfully\")\n"
   ]
  },
  {
   "cell_type": "markdown",
   "id": "emerging-spoke",
   "metadata": {},
   "source": [
    "We will now call the dataset to be read and processed using the url function. "
   ]
  },
  {
   "cell_type": "code",
   "execution_count": 2,
   "id": "dependent-storage",
   "metadata": {},
   "outputs": [
    {
     "name": "stdout",
     "output_type": "stream",
     "text": [
      "data import successful\n"
     ]
    }
   ],
   "source": [
    "url = \"http://bit.ly/w-data\"\n",
    "ab = pd.read_csv(url)\n",
    "print(\"data import successful\")\n",
    "# using print option to see if dataset is called or not. "
   ]
  },
  {
   "cell_type": "markdown",
   "id": "freelance-ridge",
   "metadata": {},
   "source": [
    "We have succesfully imported the data from the given dataset url. \n",
    "Using matplotlib library commands for the graphical execution of the given dataset. "
   ]
  },
  {
   "cell_type": "code",
   "execution_count": 5,
   "id": "referenced-johns",
   "metadata": {},
   "outputs": [
    {
     "data": {
      "image/png": "[encoded data removed]",
      "text/plain": [
       "<Figure size 432x288 with 1 Axes>"
      ]
     },
     "metadata": {
      "needs_background": "light"
     },
     "output_type": "display_data"
    }
   ],
   "source": [
    "ab.plot(kind='scatter' , x='time (minutes)' , y='% reduction' , color ='r')\n",
    "plt.title('% reduction vs duration')\n",
    "plt.xlabel('no. of hrs')\n",
    "plt.ylabel('% scores')\n",
    "plt.show()"
   ]
  },
  {
   "cell_type": "markdown",
   "id": "respiratory-studio",
   "metadata": {},
   "source": [
    "The Graph is plotted in scattred format. \n",
    "we will now call output of scatter and single line on the same graph. "
   ]
  },
  {
   "cell_type": "code",
   "execution_count": 6,
   "id": "floating-paint",
   "metadata": {},
   "outputs": [
    {
     "data": {
      "image/png": "[encoded data removed]",
      "text/plain": [
       "<Figure size 432x288 with 1 Axes>"
      ]
     },
     "metadata": {
      "needs_background": "light"
     },
     "output_type": "display_data"
    }
   ],
   "source": [
    "x=np.asanyarray(ab[['Hours']])\n",
    "y=np.asanyarray(ab['Scores'])\n",
    "regressor=LinearRegression()\n",
    "regressor.fit(x,y)\n",
    "ab.plot(kind='scatter' , x='Hours' , y='Scores', color= 'r')\n",
    "plt.plot(x,regressor.coef_[0]*x+regressor.intercept_, color='g')\n",
    "plt.title('no. of hrs vs % scores plot')\n",
    "plt.xlabel('no. of hrs')\n",
    "plt.ylabel('% score')\n",
    "plt.grid()\n",
    "plt.show()\n"
   ]
  },
  {
   "cell_type": "markdown",
   "id": "answering-apparatus",
   "metadata": {},
   "source": [
    "The red dots on the graph shows the individual data from the dataset while the green is the averaged value. \n",
    "\n",
    "Using this to predict the % score for study of 9.25 hrs. "
   ]
  },
  {
   "cell_type": "code",
   "execution_count": 7,
   "id": "nominated-romance",
   "metadata": {},
   "outputs": [
    {
     "name": "stdout",
     "output_type": "stream",
     "text": [
      "number of hrs = 9.25\n",
      "predicted score = 92.9098547701573\n"
     ]
    }
   ],
   "source": [
    "Hours=9.25\n",
    "p_score=regressor.predict([[Hours]])\n",
    "print(f\"number of hrs = {Hours}\")\n",
    "print(f\"predicted score = {p_score[0]}\")\n"
   ]
  },
  {
   "cell_type": "code",
   "execution_count": null,
   "id": "revolutionary-ballet",
   "metadata": {},
   "outputs": [],
   "source": []
  }
 ],
 "metadata": {
  "kernelspec": {
   "display_name": "Python 3",
   "language": "python",
   "name": "python3"
  },
  "language_info": {
   "codemirror_mode": {
    "name": "ipython",
    "version": 3
   },
   "file_extension": ".py",
   "mimetype": "text/x-python",
   "name": "python",
   "nbconvert_exporter": "python",
   "pygments_lexer": "ipython3",
   "version": "3.8.3"
  }
 },
 "nbformat": 4,
 "nbformat_minor": 5
}
